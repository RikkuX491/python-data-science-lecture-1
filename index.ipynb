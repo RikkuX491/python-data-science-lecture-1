{
 "cells": [
  {
   "cell_type": "markdown",
   "id": "30441bb9-3b28-4438-8f10-2591a740fce0",
   "metadata": {},
   "source": [
    "# Intro to Python Data Structures, Numpy, Matplotlib, and Pandas\n",
    "\n",
    "## Introduction\n",
    "\n",
    "In this lecture, you will learn about Python data structures including lists and dictionaries, and the following Python libraries: Numpy, Matplotlib, and Pandas.\n",
    "\n",
    "## Objectives\n",
    "\n",
    "By the end of this lecture, you will be able to:\n",
    "\n",
    "- Utilize Python data structures including lists and dictionaries to manage large amounts of data\n",
    "- Utilize Numpy methods to calculate measures of central tendency including mean and median\n",
    "- Use Matplotlib to create a bar graph\n",
    "- Aggregate data by groups using pandas DataFrames\n",
    "\n",
    "## Example\n",
    "\n",
    "The example we'll be working with today is data for foods at a restaurant. We want to be able to calculate how much money we should bring with us before going to this restaurant by calculating measures of central tendency for prices of dishes at the restaurant including mean and median."
   ]
  },
  {
   "cell_type": "markdown",
   "id": "ac5d0abf-93e2-40f8-a785-86c987e82f39",
   "metadata": {},
   "source": [
    "## Step 1\n",
    "\n",
    "Let's say we want to store information for various dishes at a restaurant, including the prices for each food. We can start by storing the information for the prices for the dishes into variables."
   ]
  },
  {
   "cell_type": "code",
   "execution_count": 1,
   "id": "67e6e826-6b79-4225-a9bb-5a727b2a2108",
   "metadata": {},
   "outputs": [],
   "source": [
    "# Run this cell\n",
    "\n",
    "# Prices for foods in the 'Appetizers' category of the restaurant menu\n",
    "price_1 = 13.00\n",
    "price_2 = 13.00\n",
    "price_3 = 13.00\n",
    "price_4 = 11.00\n",
    "price_5 = 16.00\n",
    "price_6 = 12.00"
   ]
  },
  {
   "cell_type": "markdown",
   "id": "2be64780-5096-405c-bddf-9cb55f108944",
   "metadata": {},
   "source": [
    "## Step 2\n",
    "\n",
    "Consider that we may need to include additional prices later on. We'll notice that creating a variable for each new price we want to add is inefficient. Let's store our data into a `list`, a data structure useful in storing large amounts of data."
   ]
  },
  {
   "cell_type": "code",
   "execution_count": 2,
   "id": "7cf519b7-8b60-4d96-b9e8-c3a5969692a9",
   "metadata": {},
   "outputs": [
    {
     "data": {
      "text/plain": [
       "[13.0, 13.0, 13.0, 11.0, 16.0, 12.0]"
      ]
     },
     "execution_count": 2,
     "metadata": {},
     "output_type": "execute_result"
    }
   ],
   "source": [
    "# Run this cell\n",
    "\n",
    "appetizers_prices = [price_1, price_2, price_3, price_4, price_5, price_6]\n",
    "\n",
    "appetizers_prices"
   ]
  },
  {
   "cell_type": "markdown",
   "id": "100190ac-3a24-4681-a84a-e132a1e10066",
   "metadata": {},
   "source": [
    "## Step 3\n",
    "\n",
    "We could then calculate the average price (mean) by calculating the sum of the prices stored in the list and dividing by the length of the list."
   ]
  },
  {
   "cell_type": "code",
   "execution_count": 3,
   "id": "d4629108-36e5-4b79-9d75-e8bdb253fe5b",
   "metadata": {},
   "outputs": [
    {
     "data": {
      "text/plain": [
       "13.0"
      ]
     },
     "execution_count": 3,
     "metadata": {},
     "output_type": "execute_result"
    }
   ],
   "source": [
    "# Run this cell\n",
    "\n",
    "average_appetizers_price = sum(appetizers_prices) / len(appetizers_prices)\n",
    "\n",
    "average_appetizers_price"
   ]
  },
  {
   "cell_type": "markdown",
   "id": "ddbd85ac-8c75-46ef-b048-251d60463d69",
   "metadata": {},
   "source": [
    "## Step 4\n",
    "\n",
    "We can also use the `mean()` method from the `numpy` library to calculate the mean (average) value of a list of numerical values. Numpy's methods help us to focus on getting the job done without us having to worry as much about the procedure needed to achieve the result."
   ]
  },
  {
   "cell_type": "code",
   "execution_count": 4,
   "id": "078eeb96-ecda-448d-8440-44657fe5d490",
   "metadata": {},
   "outputs": [
    {
     "data": {
      "text/plain": [
       "13.0"
      ]
     },
     "execution_count": 4,
     "metadata": {},
     "output_type": "execute_result"
    }
   ],
   "source": [
    "# Run this cell\n",
    "\n",
    "import numpy as np\n",
    "\n",
    "average_appetizers_price = np.mean(appetizers_prices)\n",
    "\n",
    "average_appetizers_price"
   ]
  },
  {
   "cell_type": "markdown",
   "id": "bb8d8d77-6649-4d34-a97e-bc3c6fb5f26b",
   "metadata": {},
   "source": [
    "## Step 5\n",
    "\n",
    "If we want to calculate the median price, we can sort the prices and then find the middle value(s) in the list. If there are 2 middle values, we calculate the average of these values to get the median. If there is just 1 middle value, that middle value will be the median."
   ]
  },
  {
   "cell_type": "code",
   "execution_count": 5,
   "id": "daa04235-b4b7-4fb9-90df-2ee4e165ee74",
   "metadata": {},
   "outputs": [
    {
     "data": {
      "text/plain": [
       "13.0"
      ]
     },
     "execution_count": 5,
     "metadata": {},
     "output_type": "execute_result"
    }
   ],
   "source": [
    "# Run this cell\n",
    "\n",
    "appetizers_prices.sort()\n",
    "middle_index = int(len(appetizers_prices) / 2)\n",
    "\n",
    "appetizers_median_price = None\n",
    "\n",
    "if len(appetizers_prices) % 2 == 1:\n",
    "    appetizers_median_price = appetizers_prices[middle_index]\n",
    "\n",
    "else:\n",
    "    appetizers_median_price = (appetizers_prices[middle_index] + appetizers_prices[middle_index - 1]) / 2\n",
    "\n",
    "appetizers_median_price"
   ]
  },
  {
   "cell_type": "markdown",
   "id": "039ac964-c857-4332-a033-34616908c7b5",
   "metadata": {},
   "source": [
    "## Step 6\n",
    "\n",
    "We can also use the `median()`method from the Numpy library to calculate the median value of a list of numerical values."
   ]
  },
  {
   "cell_type": "code",
   "execution_count": 6,
   "id": "7b3233a0-1d38-4491-ab3d-2cd0dc588daf",
   "metadata": {},
   "outputs": [
    {
     "data": {
      "text/plain": [
       "13.0"
      ]
     },
     "execution_count": 6,
     "metadata": {},
     "output_type": "execute_result"
    }
   ],
   "source": [
    "# Run this cell\n",
    "\n",
    "appetizers_median_price = np.median(appetizers_prices)\n",
    "\n",
    "appetizers_median_price"
   ]
  },
  {
   "cell_type": "markdown",
   "id": "cdcdd187-6748-4fb9-b2b1-cd3d0068d41a",
   "metadata": {},
   "source": [
    "## Step 7\n",
    "\n",
    "Let's create 4 more lists of prices, this time for foods in the 'Kabobs', 'Salads', 'Seafoods', and 'Stews' categories of the restaurant menu, and we'll calculate the mean (average) price for the dishes in each category."
   ]
  },
  {
   "cell_type": "code",
   "execution_count": 7,
   "id": "39740ca6-d469-4395-873e-6c34feaf678c",
   "metadata": {},
   "outputs": [],
   "source": [
    "# Run this cell\n",
    "\n",
    "kabobs_prices = [25.00, 29.00, 42.00, 76.00, 26.00, 30.00, 26.50, 25.00, 25.00, 25.00, 38.00, 35.00, 38.00]\n",
    "average_kabobs_price = np.mean(kabobs_prices)\n",
    "\n",
    "salads_prices = [14.00, 15.00, 16.00]\n",
    "average_salads_price = np.mean(salads_prices)\n",
    "\n",
    "seafoods_prices = [33.00, 34.00, 37.00, 33.00]\n",
    "average_seafoods_price = np.mean(seafoods_prices)\n",
    "\n",
    "stews_prices = [25.00, 28.00, 27.00, 27.00, 36.00]\n",
    "average_stews_price = np.mean(stews_prices)"
   ]
  },
  {
   "cell_type": "markdown",
   "id": "6ba0e10e-7299-4357-ad01-d92e82c6b0e2",
   "metadata": {},
   "source": [
    "## Step 8\n",
    "\n",
    "We will use Matplotlib to make a vertical bar graph with our data. We'll include the data for mean (average) prices for each category in the bar graph."
   ]
  },
  {
   "cell_type": "code",
   "execution_count": 8,
   "id": "71a7cc6e-d323-4adc-b169-99b96b3d7b47",
   "metadata": {},
   "outputs": [
    {
     "data": {
      "text/plain": [
       "Text(0.5, 1.0, 'Ravagh Persian Grill Restaurant - Average Prices')"
      ]
     },
     "execution_count": 8,
     "metadata": {},
     "output_type": "execute_result"
    },
    {
     "data": {
      "image/png": "[encoded data removed]",
      "text/plain": [
       "<Figure size 800x600 with 1 Axes>"
      ]
     },
     "metadata": {},
     "output_type": "display_data"
    }
   ],
   "source": [
    "# Run this cell\n",
    "\n",
    "import matplotlib.pyplot as plt\n",
    "\n",
    "height_values = [average_appetizers_price, average_kabobs_price, average_salads_price, average_seafoods_price, average_stews_price]\n",
    "x_axis_labels = [\"Appetizers\", \"Kabobs\", \"Salads\", \"Seafoods\", \"Stews\"]\n",
    "\n",
    "# Create the plot\n",
    "fig, ax = plt.subplots(figsize=(8, 6))\n",
    "\n",
    "# Plot vertical bars of fixed width by passing x and height values to .bar() function\n",
    "bar_chart = ax.bar(height=height_values, x=x_axis_labels)\n",
    "\n",
    "# Give a title to the bar graph and label the axes\n",
    "plt.xlabel(\"Menu Categories\")\n",
    "plt.ylabel(\"Average Prices\")\n",
    "plt.title(\"Ravagh Persian Grill Restaurant - Average Prices\")"
   ]
  },
  {
   "cell_type": "markdown",
   "id": "2631e77d-8190-4539-b68f-6c34a142a5e1",
   "metadata": {},
   "source": [
    "We can see that we'll save the most money by purchasing appetizers, and we'll be spending the most on seafood dishes.\n",
    "\n",
    "## Step 9\n",
    "\n",
    "We can also use Pandas to aggregate our data by groups using pandas DataFrames. We'll create our first pandas DataFrame with data for dishes in the appetizers category. Pandas DataFrames allow us to visually see our data in the form of a table with rows and columns. We'll include an additional column, \"Category\", which represents the category for a dish."
   ]
  },
  {
   "cell_type": "code",
   "execution_count": 9,
   "id": "7ba88c90-8a72-4e3f-a3b6-d50eeca72a22",
   "metadata": {},
   "outputs": [
    {
     "data": {
      "text/html": [
       "<div>\n",
       "<style scoped>\n",
       "    .dataframe tbody tr th:only-of-type {\n",
       "        vertical-align: middle;\n",
       "    }\n",
       "\n",
       "    .dataframe tbody tr th {\n",
       "        vertical-align: top;\n",
       "    }\n",
       "\n",
       "    .dataframe thead th {\n",
       "        text-align: right;\n",
       "    }\n",
       "</style>\n",
       "<table border=\"1\" class=\"dataframe\">\n",
       "  <thead>\n",
       "    <tr style=\"text-align: right;\">\n",
       "      <th></th>\n",
       "      <th>Price</th>\n",
       "      <th>Category</th>\n",
       "    </tr>\n",
       "  </thead>\n",
       "  <tbody>\n",
       "    <tr>\n",
       "      <th>0</th>\n",
       "      <td>11.0</td>\n",
       "      <td>Appetizers</td>\n",
       "    </tr>\n",
       "    <tr>\n",
       "      <th>1</th>\n",
       "      <td>12.0</td>\n",
       "      <td>Appetizers</td>\n",
       "    </tr>\n",
       "    <tr>\n",
       "      <th>2</th>\n",
       "      <td>13.0</td>\n",
       "      <td>Appetizers</td>\n",
       "    </tr>\n",
       "    <tr>\n",
       "      <th>3</th>\n",
       "      <td>13.0</td>\n",
       "      <td>Appetizers</td>\n",
       "    </tr>\n",
       "    <tr>\n",
       "      <th>4</th>\n",
       "      <td>13.0</td>\n",
       "      <td>Appetizers</td>\n",
       "    </tr>\n",
       "    <tr>\n",
       "      <th>5</th>\n",
       "      <td>16.0</td>\n",
       "      <td>Appetizers</td>\n",
       "    </tr>\n",
       "  </tbody>\n",
       "</table>\n",
       "</div>"
      ],
      "text/plain": [
       "   Price    Category\n",
       "0   11.0  Appetizers\n",
       "1   12.0  Appetizers\n",
       "2   13.0  Appetizers\n",
       "3   13.0  Appetizers\n",
       "4   13.0  Appetizers\n",
       "5   16.0  Appetizers"
      ]
     },
     "execution_count": 9,
     "metadata": {},
     "output_type": "execute_result"
    }
   ],
   "source": [
    "# Run this cell\n",
    "\n",
    "import pandas as pd\n",
    "\n",
    "category_list = [\"Appetizers\"] * len(appetizers_prices)\n",
    "\n",
    "appetizers_dataframe = pd.DataFrame({\"Price\": appetizers_prices, \"Category\": category_list})\n",
    "appetizers_dataframe"
   ]
  },
  {
   "cell_type": "markdown",
   "id": "9ff35af3-a812-49f8-b1c1-372d503b1450",
   "metadata": {},
   "source": [
    "## Step 10\n",
    "\n",
    "We'll create another Pandas DataFrame with data for dishes in the Kabobs category and then we'll combine the Kabobs Pandas DataFrame with the Appetizers Pandas DataFrame."
   ]
  },
  {
   "cell_type": "code",
   "execution_count": 10,
   "id": "80293217-8d5a-4d5b-8a56-b8731289445f",
   "metadata": {},
   "outputs": [
    {
     "data": {
      "text/html": [
       "<div>\n",
       "<style scoped>\n",
       "    .dataframe tbody tr th:only-of-type {\n",
       "        vertical-align: middle;\n",
       "    }\n",
       "\n",
       "    .dataframe tbody tr th {\n",
       "        vertical-align: top;\n",
       "    }\n",
       "\n",
       "    .dataframe thead th {\n",
       "        text-align: right;\n",
       "    }\n",
       "</style>\n",
       "<table border=\"1\" class=\"dataframe\">\n",
       "  <thead>\n",
       "    <tr style=\"text-align: right;\">\n",
       "      <th></th>\n",
       "      <th>Price</th>\n",
       "      <th>Category</th>\n",
       "    </tr>\n",
       "  </thead>\n",
       "  <tbody>\n",
       "    <tr>\n",
       "      <th>0</th>\n",
       "      <td>11.0</td>\n",
       "      <td>Appetizers</td>\n",
       "    </tr>\n",
       "    <tr>\n",
       "      <th>1</th>\n",
       "      <td>12.0</td>\n",
       "      <td>Appetizers</td>\n",
       "    </tr>\n",
       "    <tr>\n",
       "      <th>2</th>\n",
       "      <td>13.0</td>\n",
       "      <td>Appetizers</td>\n",
       "    </tr>\n",
       "    <tr>\n",
       "      <th>3</th>\n",
       "      <td>13.0</td>\n",
       "      <td>Appetizers</td>\n",
       "    </tr>\n",
       "    <tr>\n",
       "      <th>4</th>\n",
       "      <td>13.0</td>\n",
       "      <td>Appetizers</td>\n",
       "    </tr>\n",
       "    <tr>\n",
       "      <th>5</th>\n",
       "      <td>16.0</td>\n",
       "      <td>Appetizers</td>\n",
       "    </tr>\n",
       "    <tr>\n",
       "      <th>0</th>\n",
       "      <td>25.0</td>\n",
       "      <td>Kabobs</td>\n",
       "    </tr>\n",
       "    <tr>\n",
       "      <th>1</th>\n",
       "      <td>29.0</td>\n",
       "      <td>Kabobs</td>\n",
       "    </tr>\n",
       "    <tr>\n",
       "      <th>2</th>\n",
       "      <td>42.0</td>\n",
       "      <td>Kabobs</td>\n",
       "    </tr>\n",
       "    <tr>\n",
       "      <th>3</th>\n",
       "      <td>76.0</td>\n",
       "      <td>Kabobs</td>\n",
       "    </tr>\n",
       "    <tr>\n",
       "      <th>4</th>\n",
       "      <td>26.0</td>\n",
       "      <td>Kabobs</td>\n",
       "    </tr>\n",
       "    <tr>\n",
       "      <th>5</th>\n",
       "      <td>30.0</td>\n",
       "      <td>Kabobs</td>\n",
       "    </tr>\n",
       "    <tr>\n",
       "      <th>6</th>\n",
       "      <td>26.5</td>\n",
       "      <td>Kabobs</td>\n",
       "    </tr>\n",
       "    <tr>\n",
       "      <th>7</th>\n",
       "      <td>25.0</td>\n",
       "      <td>Kabobs</td>\n",
       "    </tr>\n",
       "    <tr>\n",
       "      <th>8</th>\n",
       "      <td>25.0</td>\n",
       "      <td>Kabobs</td>\n",
       "    </tr>\n",
       "    <tr>\n",
       "      <th>9</th>\n",
       "      <td>25.0</td>\n",
       "      <td>Kabobs</td>\n",
       "    </tr>\n",
       "    <tr>\n",
       "      <th>10</th>\n",
       "      <td>38.0</td>\n",
       "      <td>Kabobs</td>\n",
       "    </tr>\n",
       "    <tr>\n",
       "      <th>11</th>\n",
       "      <td>35.0</td>\n",
       "      <td>Kabobs</td>\n",
       "    </tr>\n",
       "    <tr>\n",
       "      <th>12</th>\n",
       "      <td>38.0</td>\n",
       "      <td>Kabobs</td>\n",
       "    </tr>\n",
       "  </tbody>\n",
       "</table>\n",
       "</div>"
      ],
      "text/plain": [
       "    Price    Category\n",
       "0    11.0  Appetizers\n",
       "1    12.0  Appetizers\n",
       "2    13.0  Appetizers\n",
       "3    13.0  Appetizers\n",
       "4    13.0  Appetizers\n",
       "5    16.0  Appetizers\n",
       "0    25.0      Kabobs\n",
       "1    29.0      Kabobs\n",
       "2    42.0      Kabobs\n",
       "3    76.0      Kabobs\n",
       "4    26.0      Kabobs\n",
       "5    30.0      Kabobs\n",
       "6    26.5      Kabobs\n",
       "7    25.0      Kabobs\n",
       "8    25.0      Kabobs\n",
       "9    25.0      Kabobs\n",
       "10   38.0      Kabobs\n",
       "11   35.0      Kabobs\n",
       "12   38.0      Kabobs"
      ]
     },
     "execution_count": 10,
     "metadata": {},
     "output_type": "execute_result"
    }
   ],
   "source": [
    "# Run this cell\n",
    "\n",
    "category_list = [\"Kabobs\"] * len(kabobs_prices)\n",
    "\n",
    "kabobs_dataframe = pd.DataFrame({\"Price\": kabobs_prices, \"Category\": category_list})\n",
    "\n",
    "dataframes = [appetizers_dataframe, kabobs_dataframe]\n",
    "\n",
    "combined_dataframe = pd.concat(dataframes, axis=0)\n",
    "combined_dataframe"
   ]
  },
  {
   "cell_type": "markdown",
   "id": "5d572308-5d11-4ffe-844f-2d42fdc8da86",
   "metadata": {},
   "source": [
    "## Step 11\n",
    "\n",
    "We will create dataframes for the rest of the categories and combine them with our current combined dataframe to create one dataframe with all of our data."
   ]
  },
  {
   "cell_type": "code",
   "execution_count": 11,
   "id": "392cca96-2989-428f-a4ee-adfe281bfaaa",
   "metadata": {},
   "outputs": [
    {
     "data": {
      "text/html": [
       "<div>\n",
       "<style scoped>\n",
       "    .dataframe tbody tr th:only-of-type {\n",
       "        vertical-align: middle;\n",
       "    }\n",
       "\n",
       "    .dataframe tbody tr th {\n",
       "        vertical-align: top;\n",
       "    }\n",
       "\n",
       "    .dataframe thead th {\n",
       "        text-align: right;\n",
       "    }\n",
       "</style>\n",
       "<table border=\"1\" class=\"dataframe\">\n",
       "  <thead>\n",
       "    <tr style=\"text-align: right;\">\n",
       "      <th></th>\n",
       "      <th>Price</th>\n",
       "      <th>Category</th>\n",
       "    </tr>\n",
       "  </thead>\n",
       "  <tbody>\n",
       "    <tr>\n",
       "      <th>0</th>\n",
       "      <td>11.0</td>\n",
       "      <td>Appetizers</td>\n",
       "    </tr>\n",
       "    <tr>\n",
       "      <th>1</th>\n",
       "      <td>12.0</td>\n",
       "      <td>Appetizers</td>\n",
       "    </tr>\n",
       "    <tr>\n",
       "      <th>2</th>\n",
       "      <td>13.0</td>\n",
       "      <td>Appetizers</td>\n",
       "    </tr>\n",
       "    <tr>\n",
       "      <th>3</th>\n",
       "      <td>13.0</td>\n",
       "      <td>Appetizers</td>\n",
       "    </tr>\n",
       "    <tr>\n",
       "      <th>4</th>\n",
       "      <td>13.0</td>\n",
       "      <td>Appetizers</td>\n",
       "    </tr>\n",
       "    <tr>\n",
       "      <th>5</th>\n",
       "      <td>16.0</td>\n",
       "      <td>Appetizers</td>\n",
       "    </tr>\n",
       "    <tr>\n",
       "      <th>0</th>\n",
       "      <td>25.0</td>\n",
       "      <td>Kabobs</td>\n",
       "    </tr>\n",
       "    <tr>\n",
       "      <th>1</th>\n",
       "      <td>29.0</td>\n",
       "      <td>Kabobs</td>\n",
       "    </tr>\n",
       "    <tr>\n",
       "      <th>2</th>\n",
       "      <td>42.0</td>\n",
       "      <td>Kabobs</td>\n",
       "    </tr>\n",
       "    <tr>\n",
       "      <th>3</th>\n",
       "      <td>76.0</td>\n",
       "      <td>Kabobs</td>\n",
       "    </tr>\n",
       "    <tr>\n",
       "      <th>4</th>\n",
       "      <td>26.0</td>\n",
       "      <td>Kabobs</td>\n",
       "    </tr>\n",
       "    <tr>\n",
       "      <th>5</th>\n",
       "      <td>30.0</td>\n",
       "      <td>Kabobs</td>\n",
       "    </tr>\n",
       "    <tr>\n",
       "      <th>6</th>\n",
       "      <td>26.5</td>\n",
       "      <td>Kabobs</td>\n",
       "    </tr>\n",
       "    <tr>\n",
       "      <th>7</th>\n",
       "      <td>25.0</td>\n",
       "      <td>Kabobs</td>\n",
       "    </tr>\n",
       "    <tr>\n",
       "      <th>8</th>\n",
       "      <td>25.0</td>\n",
       "      <td>Kabobs</td>\n",
       "    </tr>\n",
       "    <tr>\n",
       "      <th>9</th>\n",
       "      <td>25.0</td>\n",
       "      <td>Kabobs</td>\n",
       "    </tr>\n",
       "    <tr>\n",
       "      <th>10</th>\n",
       "      <td>38.0</td>\n",
       "      <td>Kabobs</td>\n",
       "    </tr>\n",
       "    <tr>\n",
       "      <th>11</th>\n",
       "      <td>35.0</td>\n",
       "      <td>Kabobs</td>\n",
       "    </tr>\n",
       "    <tr>\n",
       "      <th>12</th>\n",
       "      <td>38.0</td>\n",
       "      <td>Kabobs</td>\n",
       "    </tr>\n",
       "    <tr>\n",
       "      <th>0</th>\n",
       "      <td>14.0</td>\n",
       "      <td>Salads</td>\n",
       "    </tr>\n",
       "    <tr>\n",
       "      <th>1</th>\n",
       "      <td>15.0</td>\n",
       "      <td>Salads</td>\n",
       "    </tr>\n",
       "    <tr>\n",
       "      <th>2</th>\n",
       "      <td>16.0</td>\n",
       "      <td>Salads</td>\n",
       "    </tr>\n",
       "    <tr>\n",
       "      <th>0</th>\n",
       "      <td>33.0</td>\n",
       "      <td>Seafoods</td>\n",
       "    </tr>\n",
       "    <tr>\n",
       "      <th>1</th>\n",
       "      <td>34.0</td>\n",
       "      <td>Seafoods</td>\n",
       "    </tr>\n",
       "    <tr>\n",
       "      <th>2</th>\n",
       "      <td>37.0</td>\n",
       "      <td>Seafoods</td>\n",
       "    </tr>\n",
       "    <tr>\n",
       "      <th>3</th>\n",
       "      <td>33.0</td>\n",
       "      <td>Seafoods</td>\n",
       "    </tr>\n",
       "    <tr>\n",
       "      <th>0</th>\n",
       "      <td>25.0</td>\n",
       "      <td>Stews</td>\n",
       "    </tr>\n",
       "    <tr>\n",
       "      <th>1</th>\n",
       "      <td>28.0</td>\n",
       "      <td>Stews</td>\n",
       "    </tr>\n",
       "    <tr>\n",
       "      <th>2</th>\n",
       "      <td>27.0</td>\n",
       "      <td>Stews</td>\n",
       "    </tr>\n",
       "    <tr>\n",
       "      <th>3</th>\n",
       "      <td>27.0</td>\n",
       "      <td>Stews</td>\n",
       "    </tr>\n",
       "    <tr>\n",
       "      <th>4</th>\n",
       "      <td>36.0</td>\n",
       "      <td>Stews</td>\n",
       "    </tr>\n",
       "  </tbody>\n",
       "</table>\n",
       "</div>"
      ],
      "text/plain": [
       "    Price    Category\n",
       "0    11.0  Appetizers\n",
       "1    12.0  Appetizers\n",
       "2    13.0  Appetizers\n",
       "3    13.0  Appetizers\n",
       "4    13.0  Appetizers\n",
       "5    16.0  Appetizers\n",
       "0    25.0      Kabobs\n",
       "1    29.0      Kabobs\n",
       "2    42.0      Kabobs\n",
       "3    76.0      Kabobs\n",
       "4    26.0      Kabobs\n",
       "5    30.0      Kabobs\n",
       "6    26.5      Kabobs\n",
       "7    25.0      Kabobs\n",
       "8    25.0      Kabobs\n",
       "9    25.0      Kabobs\n",
       "10   38.0      Kabobs\n",
       "11   35.0      Kabobs\n",
       "12   38.0      Kabobs\n",
       "0    14.0      Salads\n",
       "1    15.0      Salads\n",
       "2    16.0      Salads\n",
       "0    33.0    Seafoods\n",
       "1    34.0    Seafoods\n",
       "2    37.0    Seafoods\n",
       "3    33.0    Seafoods\n",
       "0    25.0       Stews\n",
       "1    28.0       Stews\n",
       "2    27.0       Stews\n",
       "3    27.0       Stews\n",
       "4    36.0       Stews"
      ]
     },
     "execution_count": 11,
     "metadata": {},
     "output_type": "execute_result"
    }
   ],
   "source": [
    "# Run this cell\n",
    "\n",
    "# Creating dataframe for Salads category\n",
    "category_list = [\"Salads\"] * len(salads_prices)\n",
    "salads_dataframe = pd.DataFrame({\"Price\": salads_prices, \"Category\": category_list})\n",
    "\n",
    "# Creating dataframe for Seafoods category\n",
    "category_list = [\"Seafoods\"] * len(seafoods_prices)\n",
    "seafoods_dataframe = pd.DataFrame({\"Price\": seafoods_prices, \"Category\": category_list})\n",
    "\n",
    "# Creating dataframe for Stews category\n",
    "category_list = [\"Stews\"] * len(stews_prices)\n",
    "stews_dataframe = pd.DataFrame({\"Price\": stews_prices, \"Category\": category_list})\n",
    "\n",
    "# Combining the dataframes\n",
    "dataframes = [combined_dataframe, salads_dataframe, seafoods_dataframe, stews_dataframe]\n",
    "\n",
    "combined_dataframe = pd.concat(dataframes, axis=0)\n",
    "combined_dataframe"
   ]
  },
  {
   "cell_type": "markdown",
   "id": "3949724e-821e-43d6-b806-be2027bc23d9",
   "metadata": {},
   "source": [
    "## Step 12\n",
    "\n",
    "We will aggregate our data by Category using our combined pandas DataFrame to calculate the mean (average) price by category."
   ]
  },
  {
   "cell_type": "code",
   "execution_count": 12,
   "id": "4e3f2daf-8b4e-4996-87d4-b03cfed4c6b1",
   "metadata": {},
   "outputs": [
    {
     "data": {
      "text/html": [
       "<div>\n",
       "<style scoped>\n",
       "    .dataframe tbody tr th:only-of-type {\n",
       "        vertical-align: middle;\n",
       "    }\n",
       "\n",
       "    .dataframe tbody tr th {\n",
       "        vertical-align: top;\n",
       "    }\n",
       "\n",
       "    .dataframe thead th {\n",
       "        text-align: right;\n",
       "    }\n",
       "</style>\n",
       "<table border=\"1\" class=\"dataframe\">\n",
       "  <thead>\n",
       "    <tr style=\"text-align: right;\">\n",
       "      <th></th>\n",
       "      <th>Price</th>\n",
       "    </tr>\n",
       "    <tr>\n",
       "      <th>Category</th>\n",
       "      <th></th>\n",
       "    </tr>\n",
       "  </thead>\n",
       "  <tbody>\n",
       "    <tr>\n",
       "      <th>Appetizers</th>\n",
       "      <td>13.000000</td>\n",
       "    </tr>\n",
       "    <tr>\n",
       "      <th>Kabobs</th>\n",
       "      <td>33.884615</td>\n",
       "    </tr>\n",
       "    <tr>\n",
       "      <th>Salads</th>\n",
       "      <td>15.000000</td>\n",
       "    </tr>\n",
       "    <tr>\n",
       "      <th>Seafoods</th>\n",
       "      <td>34.250000</td>\n",
       "    </tr>\n",
       "    <tr>\n",
       "      <th>Stews</th>\n",
       "      <td>28.600000</td>\n",
       "    </tr>\n",
       "  </tbody>\n",
       "</table>\n",
       "</div>"
      ],
      "text/plain": [
       "                Price\n",
       "Category             \n",
       "Appetizers  13.000000\n",
       "Kabobs      33.884615\n",
       "Salads      15.000000\n",
       "Seafoods    34.250000\n",
       "Stews       28.600000"
      ]
     },
     "execution_count": 12,
     "metadata": {},
     "output_type": "execute_result"
    }
   ],
   "source": [
    "# Run this cell\n",
    "\n",
    "average_prices_dataframe = combined_dataframe.groupby('Category').mean(numeric_only = True)\n",
    "average_prices_dataframe"
   ]
  },
  {
   "cell_type": "markdown",
   "id": "82191e01-32be-44b3-ba3b-4b7ef5b8b35a",
   "metadata": {},
   "source": [
    "We get the same result as previously when we used Numpy to calculate our mean (average) price, but this time we clearly see our results along with the category that each result belongs to.\n",
    "\n",
    "## Step 13\n",
    "\n",
    "We will use Matplotlib to create a bar graph using our Pandas DataFrame."
   ]
  },
  {
   "cell_type": "code",
   "execution_count": 13,
   "id": "b4d2cd23-f732-4618-8321-2bb7ebf91c9f",
   "metadata": {},
   "outputs": [
    {
     "data": {
      "text/plain": [
       "Text(0.5, 1.0, 'Ravagh Persian Grill Restaurant - Average Prices')"
      ]
     },
     "execution_count": 13,
     "metadata": {},
     "output_type": "execute_result"
    },
    {
     "data": {
      "image/png": "[encoded data removed]",
      "text/plain": [
       "<Figure size 800x600 with 1 Axes>"
      ]
     },
     "metadata": {},
     "output_type": "display_data"
    }
   ],
   "source": [
    "# Run this cell\n",
    "\n",
    "height_values = average_prices_dataframe.iloc[:, 0].values\n",
    "x_axis_labels = average_prices_dataframe.index\n",
    "\n",
    "# # Create the plot\n",
    "fig, ax = plt.subplots(figsize=(8, 6))\n",
    "\n",
    "# # Plot vertical bars of fixed width by passing x and height values to .bar() function\n",
    "bar_chart = ax.bar(height=height_values, x=x_axis_labels)\n",
    "\n",
    "# # Give a title to the bar graph and label the axes\n",
    "plt.xlabel(\"Menu Categories\")\n",
    "plt.ylabel(\"Average Prices\")\n",
    "plt.title(\"Ravagh Persian Grill Restaurant - Average Prices\")"
   ]
  },
  {
   "cell_type": "markdown",
   "id": "06e0bbe9-98d9-40de-8acb-4aa01f46300e",
   "metadata": {},
   "source": [
    "We get the same results here as in our previous bar graph.\n",
    "\n",
    "## Conclusion\n",
    "\n",
    "As mentioned previously, we'll save the most money by purchasing appetizers, and we'll be spending the most on seafood dishes. The average price per Appetizer purchased is `$13`, while the average price per Seafood dish purchased is `$34.25`. With a desire to purchase 1 dish per category, we'll need to bring at least `$124.74` to ensure a successful food adventure.\n",
    "\n",
    "We can see that Pandas DataFrames and Matplotlib allows us to make our data more readable. We have plenty of tools at our disposal for data analysis. This restaurant example was just one use case where these Python libraries proved useful. In the next lecture, we'll explore importing data from a `.csv` file and we will expand on what we can achieve with the Pandas library."
   ]
  },
  {
   "cell_type": "code",
   "execution_count": null,
   "id": "31559ffc-5a99-47e5-8001-07833d3f7569",
   "metadata": {},
   "outputs": [],
   "source": []
  }
 ],
 "metadata": {
  "kernelspec": {
   "display_name": "Python (learn-env)",
   "language": "python",
   "name": "learn-env"
  },
  "language_info": {
   "codemirror_mode": {
    "name": "ipython",
    "version": 3
   },
   "file_extension": ".py",
   "mimetype": "text/x-python",
   "name": "python",
   "nbconvert_exporter": "python",
   "pygments_lexer": "ipython3",
   "version": "3.12.4"
  }
 },
 "nbformat": 4,
 "nbformat_minor": 5
}

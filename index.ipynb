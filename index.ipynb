{
 "cells": [
  {
   "cell_type": "markdown",
   "id": "30441bb9-3b28-4438-8f10-2591a740fce0",
   "metadata": {},
   "source": [
    "# Intro to Python Data Structures, Numpy, Matplotlib, and Pandas\n",
    "\n",
    "## Introduction\n",
    "\n",
    "In this lecture, you will learn about Python data structures including lists and dictionaries, and the following Python libraries: Numpy, Matplotlib, and Pandas.\n",
    "\n",
    "## Objectives\n",
    "\n",
    "By the end of this lecture, you will be able to:\n",
    "\n",
    "- Utilize Python data structures including lists and dictionaries to manage large amounts of data\n",
    "- Utilize Numpy methods to calculate measures of central tendency including mean, median, and mode\n",
    "- Use Matplotlib to perform data visualization by:\n",
    "  - Creating a bar graph\n",
    "  - Creating a scatter plot\n",
    "  - Create a histogram\n",
    "- Aggregate data by groups using pandas DataFrames"
   ]
  }
 ],
 "metadata": {
  "kernelspec": {
   "display_name": "Python (learn-env)",
   "language": "python",
   "name": "learn-env"
  },
  "language_info": {
   "codemirror_mode": {
    "name": "ipython",
    "version": 3
   },
   "file_extension": ".py",
   "mimetype": "text/x-python",
   "name": "python",
   "nbconvert_exporter": "python",
   "pygments_lexer": "ipython3",
   "version": "3.12.4"
  }
 },
 "nbformat": 4,
 "nbformat_minor": 5
}
